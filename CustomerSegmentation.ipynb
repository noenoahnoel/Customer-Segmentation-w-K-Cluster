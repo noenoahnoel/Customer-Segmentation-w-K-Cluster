{
 "cells": [
  {
   "cell_type": "code",
   "execution_count": 197,
   "id": "744384b4-dbcf-4795-9e0d-d496fad1b4d1",
   "metadata": {},
   "outputs": [],
   "source": [
    "# Import necessary libraries\n",
    "import pandas as pd\n",
    "import matplotlib.pyplot as plt\n",
    "%matplotlib inline\n",
    "from scipy import stats\n",
    "from scipy.stats import skew\n",
    "from sklearn.cluster import KMeans \n",
    "from sklearn.metrics import silhouette_score \n",
    "from sklearn.preprocessing import StandardScaler\n",
    "import numpy as np\n",
    "import seaborn as sns\n",
    "import plotly"
   ]
  },
  {
   "cell_type": "code",
   "execution_count": 179,
   "id": "66a91785-8cd5-4580-911e-5ebf31888f13",
   "metadata": {},
   "outputs": [
    {
     "data": {
      "text/html": [
       "<div>\n",
       "<style scoped>\n",
       "    .dataframe tbody tr th:only-of-type {\n",
       "        vertical-align: middle;\n",
       "    }\n",
       "\n",
       "    .dataframe tbody tr th {\n",
       "        vertical-align: top;\n",
       "    }\n",
       "\n",
       "    .dataframe thead th {\n",
       "        text-align: right;\n",
       "    }\n",
       "</style>\n",
       "<table border=\"1\" class=\"dataframe\">\n",
       "  <thead>\n",
       "    <tr style=\"text-align: right;\">\n",
       "      <th></th>\n",
       "      <th>ORDERNUMBER</th>\n",
       "      <th>QUANTITYORDERED</th>\n",
       "      <th>PRICEEACH</th>\n",
       "      <th>ORDERLINENUMBER</th>\n",
       "      <th>SALES</th>\n",
       "      <th>ORDERDATE</th>\n",
       "      <th>STATUS</th>\n",
       "      <th>QTR_ID</th>\n",
       "      <th>MONTH_ID</th>\n",
       "      <th>YEAR_ID</th>\n",
       "      <th>...</th>\n",
       "      <th>ADDRESSLINE1</th>\n",
       "      <th>ADDRESSLINE2</th>\n",
       "      <th>CITY</th>\n",
       "      <th>STATE</th>\n",
       "      <th>POSTALCODE</th>\n",
       "      <th>COUNTRY</th>\n",
       "      <th>TERRITORY</th>\n",
       "      <th>CONTACTLASTNAME</th>\n",
       "      <th>CONTACTFIRSTNAME</th>\n",
       "      <th>DEALSIZE</th>\n",
       "    </tr>\n",
       "  </thead>\n",
       "  <tbody>\n",
       "    <tr>\n",
       "      <th>0</th>\n",
       "      <td>10107</td>\n",
       "      <td>30</td>\n",
       "      <td>95.70</td>\n",
       "      <td>2</td>\n",
       "      <td>2871.00</td>\n",
       "      <td>2/24/2003 0:00</td>\n",
       "      <td>Shipped</td>\n",
       "      <td>1</td>\n",
       "      <td>2</td>\n",
       "      <td>2003</td>\n",
       "      <td>...</td>\n",
       "      <td>897 Long Airport Avenue</td>\n",
       "      <td>NaN</td>\n",
       "      <td>NYC</td>\n",
       "      <td>NY</td>\n",
       "      <td>10022</td>\n",
       "      <td>USA</td>\n",
       "      <td>NaN</td>\n",
       "      <td>Yu</td>\n",
       "      <td>Kwai</td>\n",
       "      <td>Small</td>\n",
       "    </tr>\n",
       "    <tr>\n",
       "      <th>1</th>\n",
       "      <td>10121</td>\n",
       "      <td>34</td>\n",
       "      <td>81.35</td>\n",
       "      <td>5</td>\n",
       "      <td>2765.90</td>\n",
       "      <td>5/7/2003 0:00</td>\n",
       "      <td>Shipped</td>\n",
       "      <td>2</td>\n",
       "      <td>5</td>\n",
       "      <td>2003</td>\n",
       "      <td>...</td>\n",
       "      <td>59 rue de l'Abbaye</td>\n",
       "      <td>NaN</td>\n",
       "      <td>Reims</td>\n",
       "      <td>NaN</td>\n",
       "      <td>51100</td>\n",
       "      <td>France</td>\n",
       "      <td>EMEA</td>\n",
       "      <td>Henriot</td>\n",
       "      <td>Paul</td>\n",
       "      <td>Small</td>\n",
       "    </tr>\n",
       "    <tr>\n",
       "      <th>2</th>\n",
       "      <td>10134</td>\n",
       "      <td>41</td>\n",
       "      <td>94.74</td>\n",
       "      <td>2</td>\n",
       "      <td>3884.34</td>\n",
       "      <td>7/1/2003 0:00</td>\n",
       "      <td>Shipped</td>\n",
       "      <td>3</td>\n",
       "      <td>7</td>\n",
       "      <td>2003</td>\n",
       "      <td>...</td>\n",
       "      <td>27 rue du Colonel Pierre Avia</td>\n",
       "      <td>NaN</td>\n",
       "      <td>Paris</td>\n",
       "      <td>NaN</td>\n",
       "      <td>75508</td>\n",
       "      <td>France</td>\n",
       "      <td>EMEA</td>\n",
       "      <td>Da Cunha</td>\n",
       "      <td>Daniel</td>\n",
       "      <td>Medium</td>\n",
       "    </tr>\n",
       "    <tr>\n",
       "      <th>3</th>\n",
       "      <td>10145</td>\n",
       "      <td>45</td>\n",
       "      <td>83.26</td>\n",
       "      <td>6</td>\n",
       "      <td>3746.70</td>\n",
       "      <td>8/25/2003 0:00</td>\n",
       "      <td>Shipped</td>\n",
       "      <td>3</td>\n",
       "      <td>8</td>\n",
       "      <td>2003</td>\n",
       "      <td>...</td>\n",
       "      <td>78934 Hillside Dr.</td>\n",
       "      <td>NaN</td>\n",
       "      <td>Pasadena</td>\n",
       "      <td>CA</td>\n",
       "      <td>90003</td>\n",
       "      <td>USA</td>\n",
       "      <td>NaN</td>\n",
       "      <td>Young</td>\n",
       "      <td>Julie</td>\n",
       "      <td>Medium</td>\n",
       "    </tr>\n",
       "    <tr>\n",
       "      <th>4</th>\n",
       "      <td>10159</td>\n",
       "      <td>49</td>\n",
       "      <td>100.00</td>\n",
       "      <td>14</td>\n",
       "      <td>5205.27</td>\n",
       "      <td>10/10/2003 0:00</td>\n",
       "      <td>Shipped</td>\n",
       "      <td>4</td>\n",
       "      <td>10</td>\n",
       "      <td>2003</td>\n",
       "      <td>...</td>\n",
       "      <td>7734 Strong St.</td>\n",
       "      <td>NaN</td>\n",
       "      <td>San Francisco</td>\n",
       "      <td>CA</td>\n",
       "      <td>NaN</td>\n",
       "      <td>USA</td>\n",
       "      <td>NaN</td>\n",
       "      <td>Brown</td>\n",
       "      <td>Julie</td>\n",
       "      <td>Medium</td>\n",
       "    </tr>\n",
       "    <tr>\n",
       "      <th>...</th>\n",
       "      <td>...</td>\n",
       "      <td>...</td>\n",
       "      <td>...</td>\n",
       "      <td>...</td>\n",
       "      <td>...</td>\n",
       "      <td>...</td>\n",
       "      <td>...</td>\n",
       "      <td>...</td>\n",
       "      <td>...</td>\n",
       "      <td>...</td>\n",
       "      <td>...</td>\n",
       "      <td>...</td>\n",
       "      <td>...</td>\n",
       "      <td>...</td>\n",
       "      <td>...</td>\n",
       "      <td>...</td>\n",
       "      <td>...</td>\n",
       "      <td>...</td>\n",
       "      <td>...</td>\n",
       "      <td>...</td>\n",
       "      <td>...</td>\n",
       "    </tr>\n",
       "    <tr>\n",
       "      <th>2818</th>\n",
       "      <td>10350</td>\n",
       "      <td>20</td>\n",
       "      <td>100.00</td>\n",
       "      <td>15</td>\n",
       "      <td>2244.40</td>\n",
       "      <td>12/2/2004 0:00</td>\n",
       "      <td>Shipped</td>\n",
       "      <td>4</td>\n",
       "      <td>12</td>\n",
       "      <td>2004</td>\n",
       "      <td>...</td>\n",
       "      <td>C/ Moralzarzal, 86</td>\n",
       "      <td>NaN</td>\n",
       "      <td>Madrid</td>\n",
       "      <td>NaN</td>\n",
       "      <td>28034</td>\n",
       "      <td>Spain</td>\n",
       "      <td>EMEA</td>\n",
       "      <td>Freyre</td>\n",
       "      <td>Diego</td>\n",
       "      <td>Small</td>\n",
       "    </tr>\n",
       "    <tr>\n",
       "      <th>2819</th>\n",
       "      <td>10373</td>\n",
       "      <td>29</td>\n",
       "      <td>100.00</td>\n",
       "      <td>1</td>\n",
       "      <td>3978.51</td>\n",
       "      <td>1/31/2005 0:00</td>\n",
       "      <td>Shipped</td>\n",
       "      <td>1</td>\n",
       "      <td>1</td>\n",
       "      <td>2005</td>\n",
       "      <td>...</td>\n",
       "      <td>Torikatu 38</td>\n",
       "      <td>NaN</td>\n",
       "      <td>Oulu</td>\n",
       "      <td>NaN</td>\n",
       "      <td>90110</td>\n",
       "      <td>Finland</td>\n",
       "      <td>EMEA</td>\n",
       "      <td>Koskitalo</td>\n",
       "      <td>Pirkko</td>\n",
       "      <td>Medium</td>\n",
       "    </tr>\n",
       "    <tr>\n",
       "      <th>2820</th>\n",
       "      <td>10386</td>\n",
       "      <td>43</td>\n",
       "      <td>100.00</td>\n",
       "      <td>4</td>\n",
       "      <td>5417.57</td>\n",
       "      <td>3/1/2005 0:00</td>\n",
       "      <td>Resolved</td>\n",
       "      <td>1</td>\n",
       "      <td>3</td>\n",
       "      <td>2005</td>\n",
       "      <td>...</td>\n",
       "      <td>C/ Moralzarzal, 86</td>\n",
       "      <td>NaN</td>\n",
       "      <td>Madrid</td>\n",
       "      <td>NaN</td>\n",
       "      <td>28034</td>\n",
       "      <td>Spain</td>\n",
       "      <td>EMEA</td>\n",
       "      <td>Freyre</td>\n",
       "      <td>Diego</td>\n",
       "      <td>Medium</td>\n",
       "    </tr>\n",
       "    <tr>\n",
       "      <th>2821</th>\n",
       "      <td>10397</td>\n",
       "      <td>34</td>\n",
       "      <td>62.24</td>\n",
       "      <td>1</td>\n",
       "      <td>2116.16</td>\n",
       "      <td>3/28/2005 0:00</td>\n",
       "      <td>Shipped</td>\n",
       "      <td>1</td>\n",
       "      <td>3</td>\n",
       "      <td>2005</td>\n",
       "      <td>...</td>\n",
       "      <td>1 rue Alsace-Lorraine</td>\n",
       "      <td>NaN</td>\n",
       "      <td>Toulouse</td>\n",
       "      <td>NaN</td>\n",
       "      <td>31000</td>\n",
       "      <td>France</td>\n",
       "      <td>EMEA</td>\n",
       "      <td>Roulet</td>\n",
       "      <td>Annette</td>\n",
       "      <td>Small</td>\n",
       "    </tr>\n",
       "    <tr>\n",
       "      <th>2822</th>\n",
       "      <td>10414</td>\n",
       "      <td>47</td>\n",
       "      <td>65.52</td>\n",
       "      <td>9</td>\n",
       "      <td>3079.44</td>\n",
       "      <td>5/6/2005 0:00</td>\n",
       "      <td>On Hold</td>\n",
       "      <td>2</td>\n",
       "      <td>5</td>\n",
       "      <td>2005</td>\n",
       "      <td>...</td>\n",
       "      <td>8616 Spinnaker Dr.</td>\n",
       "      <td>NaN</td>\n",
       "      <td>Boston</td>\n",
       "      <td>MA</td>\n",
       "      <td>51003</td>\n",
       "      <td>USA</td>\n",
       "      <td>NaN</td>\n",
       "      <td>Yoshido</td>\n",
       "      <td>Juri</td>\n",
       "      <td>Medium</td>\n",
       "    </tr>\n",
       "  </tbody>\n",
       "</table>\n",
       "<p>2823 rows × 25 columns</p>\n",
       "</div>"
      ],
      "text/plain": [
       "      ORDERNUMBER  QUANTITYORDERED  PRICEEACH  ORDERLINENUMBER    SALES  \\\n",
       "0           10107               30      95.70                2  2871.00   \n",
       "1           10121               34      81.35                5  2765.90   \n",
       "2           10134               41      94.74                2  3884.34   \n",
       "3           10145               45      83.26                6  3746.70   \n",
       "4           10159               49     100.00               14  5205.27   \n",
       "...           ...              ...        ...              ...      ...   \n",
       "2818        10350               20     100.00               15  2244.40   \n",
       "2819        10373               29     100.00                1  3978.51   \n",
       "2820        10386               43     100.00                4  5417.57   \n",
       "2821        10397               34      62.24                1  2116.16   \n",
       "2822        10414               47      65.52                9  3079.44   \n",
       "\n",
       "            ORDERDATE    STATUS  QTR_ID  MONTH_ID  YEAR_ID  ...  \\\n",
       "0      2/24/2003 0:00   Shipped       1         2     2003  ...   \n",
       "1       5/7/2003 0:00   Shipped       2         5     2003  ...   \n",
       "2       7/1/2003 0:00   Shipped       3         7     2003  ...   \n",
       "3      8/25/2003 0:00   Shipped       3         8     2003  ...   \n",
       "4     10/10/2003 0:00   Shipped       4        10     2003  ...   \n",
       "...               ...       ...     ...       ...      ...  ...   \n",
       "2818   12/2/2004 0:00   Shipped       4        12     2004  ...   \n",
       "2819   1/31/2005 0:00   Shipped       1         1     2005  ...   \n",
       "2820    3/1/2005 0:00  Resolved       1         3     2005  ...   \n",
       "2821   3/28/2005 0:00   Shipped       1         3     2005  ...   \n",
       "2822    5/6/2005 0:00   On Hold       2         5     2005  ...   \n",
       "\n",
       "                       ADDRESSLINE1  ADDRESSLINE2           CITY STATE  \\\n",
       "0           897 Long Airport Avenue           NaN            NYC    NY   \n",
       "1                59 rue de l'Abbaye           NaN          Reims   NaN   \n",
       "2     27 rue du Colonel Pierre Avia           NaN          Paris   NaN   \n",
       "3                78934 Hillside Dr.           NaN       Pasadena    CA   \n",
       "4                   7734 Strong St.           NaN  San Francisco    CA   \n",
       "...                             ...           ...            ...   ...   \n",
       "2818             C/ Moralzarzal, 86           NaN         Madrid   NaN   \n",
       "2819                    Torikatu 38           NaN           Oulu   NaN   \n",
       "2820             C/ Moralzarzal, 86           NaN         Madrid   NaN   \n",
       "2821          1 rue Alsace-Lorraine           NaN       Toulouse   NaN   \n",
       "2822             8616 Spinnaker Dr.           NaN         Boston    MA   \n",
       "\n",
       "     POSTALCODE  COUNTRY TERRITORY CONTACTLASTNAME CONTACTFIRSTNAME DEALSIZE  \n",
       "0         10022      USA       NaN              Yu             Kwai    Small  \n",
       "1         51100   France      EMEA         Henriot             Paul    Small  \n",
       "2         75508   France      EMEA        Da Cunha           Daniel   Medium  \n",
       "3         90003      USA       NaN           Young            Julie   Medium  \n",
       "4           NaN      USA       NaN           Brown            Julie   Medium  \n",
       "...         ...      ...       ...             ...              ...      ...  \n",
       "2818      28034    Spain      EMEA          Freyre            Diego    Small  \n",
       "2819      90110  Finland      EMEA       Koskitalo           Pirkko   Medium  \n",
       "2820      28034    Spain      EMEA          Freyre            Diego   Medium  \n",
       "2821      31000   France      EMEA          Roulet          Annette    Small  \n",
       "2822      51003      USA       NaN         Yoshido             Juri   Medium  \n",
       "\n",
       "[2823 rows x 25 columns]"
      ]
     },
     "execution_count": 179,
     "metadata": {},
     "output_type": "execute_result"
    }
   ],
   "source": [
    "# Import and sample dataset\n",
    "df = pd.read_csv('sales_data_sample.csv')\n",
    "\n",
    "df"
   ]
  },
  {
   "cell_type": "markdown",
   "id": "080e4cd6-5cf6-4aad-8edd-890953c43d18",
   "metadata": {},
   "source": [
    "### Create the RFM table"
   ]
  },
  {
   "cell_type": "raw",
   "id": "25201d22-619e-4250-a5ea-a67b89c298fa",
   "metadata": {},
   "source": [
    "In order to do customer segmentation, we will consider metrics such as the last time a customer made a purchase, purchase frequency, and price paid for products. "
   ]
  },
  {
   "cell_type": "code",
   "execution_count": 180,
   "id": "d6bf57b5-e8e9-4373-b8f0-db1394bfc003",
   "metadata": {},
   "outputs": [
    {
     "data": {
      "text/html": [
       "<div>\n",
       "<style scoped>\n",
       "    .dataframe tbody tr th:only-of-type {\n",
       "        vertical-align: middle;\n",
       "    }\n",
       "\n",
       "    .dataframe tbody tr th {\n",
       "        vertical-align: top;\n",
       "    }\n",
       "\n",
       "    .dataframe thead th {\n",
       "        text-align: right;\n",
       "    }\n",
       "</style>\n",
       "<table border=\"1\" class=\"dataframe\">\n",
       "  <thead>\n",
       "    <tr style=\"text-align: right;\">\n",
       "      <th></th>\n",
       "      <th>Recency</th>\n",
       "      <th>Frequency</th>\n",
       "      <th>MonetaryValue</th>\n",
       "    </tr>\n",
       "    <tr>\n",
       "      <th>CUSTOMERNAME</th>\n",
       "      <th></th>\n",
       "      <th></th>\n",
       "      <th></th>\n",
       "    </tr>\n",
       "  </thead>\n",
       "  <tbody>\n",
       "    <tr>\n",
       "      <th>AV Stores, Co.</th>\n",
       "      <td>196</td>\n",
       "      <td>51</td>\n",
       "      <td>136873.25</td>\n",
       "    </tr>\n",
       "    <tr>\n",
       "      <th>Alpha Cognac</th>\n",
       "      <td>65</td>\n",
       "      <td>20</td>\n",
       "      <td>58885.28</td>\n",
       "    </tr>\n",
       "    <tr>\n",
       "      <th>Amica Models &amp; Co.</th>\n",
       "      <td>265</td>\n",
       "      <td>26</td>\n",
       "      <td>72645.01</td>\n",
       "    </tr>\n",
       "    <tr>\n",
       "      <th>Anna's Decorations, Ltd</th>\n",
       "      <td>84</td>\n",
       "      <td>46</td>\n",
       "      <td>121260.41</td>\n",
       "    </tr>\n",
       "    <tr>\n",
       "      <th>Atelier graphique</th>\n",
       "      <td>188</td>\n",
       "      <td>7</td>\n",
       "      <td>21213.16</td>\n",
       "    </tr>\n",
       "    <tr>\n",
       "      <th>...</th>\n",
       "      <td>...</td>\n",
       "      <td>...</td>\n",
       "      <td>...</td>\n",
       "    </tr>\n",
       "    <tr>\n",
       "      <th>Vida Sport, Ltd</th>\n",
       "      <td>275</td>\n",
       "      <td>31</td>\n",
       "      <td>93344.91</td>\n",
       "    </tr>\n",
       "    <tr>\n",
       "      <th>Vitachrome Inc.</th>\n",
       "      <td>208</td>\n",
       "      <td>25</td>\n",
       "      <td>67511.37</td>\n",
       "    </tr>\n",
       "    <tr>\n",
       "      <th>Volvo Model Replicas, Co</th>\n",
       "      <td>194</td>\n",
       "      <td>19</td>\n",
       "      <td>58374.21</td>\n",
       "    </tr>\n",
       "    <tr>\n",
       "      <th>West Coast Collectables Co.</th>\n",
       "      <td>489</td>\n",
       "      <td>13</td>\n",
       "      <td>41506.23</td>\n",
       "    </tr>\n",
       "    <tr>\n",
       "      <th>giftsbymail.co.uk</th>\n",
       "      <td>212</td>\n",
       "      <td>26</td>\n",
       "      <td>73170.13</td>\n",
       "    </tr>\n",
       "  </tbody>\n",
       "</table>\n",
       "<p>92 rows × 3 columns</p>\n",
       "</div>"
      ],
      "text/plain": [
       "                             Recency  Frequency  MonetaryValue\n",
       "CUSTOMERNAME                                                  \n",
       "AV Stores, Co.                   196         51      136873.25\n",
       "Alpha Cognac                      65         20       58885.28\n",
       "Amica Models & Co.               265         26       72645.01\n",
       "Anna's Decorations, Ltd           84         46      121260.41\n",
       "Atelier graphique                188          7       21213.16\n",
       "...                              ...        ...            ...\n",
       "Vida Sport, Ltd                  275         31       93344.91\n",
       "Vitachrome Inc.                  208         25       67511.37\n",
       "Volvo Model Replicas, Co         194         19       58374.21\n",
       "West Coast Collectables Co.      489         13       41506.23\n",
       "giftsbymail.co.uk                212         26       73170.13\n",
       "\n",
       "[92 rows x 3 columns]"
      ]
     },
     "execution_count": 180,
     "metadata": {},
     "output_type": "execute_result"
    }
   ],
   "source": [
    "#Create columns: Recency, Frequency, and Monetary\n",
    "\n",
    "#Subtract the date of last purchase from date of data snapshot to create a recency column\n",
    "from datetime import datetime\n",
    "import datetime\n",
    "df['ORDERDATE'] = pd.to_datetime(df['ORDERDATE'])\n",
    "df['ORDERDATE'] = df['ORDERDATE'].dt.date\n",
    "snapshot_date = max(df.ORDERDATE) + datetime.timedelta(days=1)\n",
    "\n",
    "#Sum all transactions for each customer for a monetary column \n",
    "df['TotalSum'] = df['QUANTITYORDERED'] * df['PRICEEACH']\n",
    "\n",
    "#Aggregate data by each customer\n",
    "customers = df.groupby(['CUSTOMERNAME']).agg({\n",
    "    'ORDERDATE': lambda x: (snapshot_date - x.max()).days, \n",
    "    'CUSTOMERNAME': 'count',\n",
    "    'TotalSum': 'sum'})\n",
    "\n",
    "#Rename columns\n",
    "customers.rename(columns = {'ORDERDATE': 'Recency',\n",
    "                            'CUSTOMERNAME': 'Frequency',\n",
    "                            'TotalSum': 'MonetaryValue'}, inplace=True)\n",
    "customers"
   ]
  },
  {
   "cell_type": "markdown",
   "id": "61e9a4e0-8bbd-4bff-9e3a-e410e04ee29c",
   "metadata": {},
   "source": [
    "### Plot distribution of Recency, Frequency and MonetaryValue  "
   ]
  },
  {
   "cell_type": "code",
   "execution_count": 181,
   "id": "ff0854bc-81d3-4f0e-b794-86117719708e",
   "metadata": {},
   "outputs": [
    {
     "data": {
      "image/png": "[encoded data removed]",
      "text/plain": [
       "<Figure size 864x720 with 3 Axes>"
      ]
     },
     "metadata": {
      "needs_background": "light"
     },
     "output_type": "display_data"
    }
   ],
   "source": [
    "plt.figure(figsize=(12,10))\n",
    "\n",
    "# Plot distribution of Recency\n",
    "plt.subplot(3, 1, 1); sns.histplot(customers['Recency'])\n",
    "\n",
    "# Plot distribution of Frequency\n",
    "plt.subplot(3, 1, 2); sns.histplot(customers['Frequency'])\n",
    "\n",
    "# Plot distribution of Monetary Value\n",
    "plt.subplot(3, 1, 3); sns.histplot(customers['MonetaryValue'])\n",
    "\n",
    "plt.show()"
   ]
  },
  {
   "cell_type": "code",
   "execution_count": 182,
   "id": "3dc23c0d-3e6a-40d3-98d2-4377275eb2d2",
   "metadata": {},
   "outputs": [
    {
     "name": "stdout",
     "output_type": "stream",
     "text": [
      "Recency\n",
      "0.7673634065510249\n",
      "Frequency\n",
      "5.653296151215707\n",
      "MonetaryValue\n",
      "5.677526777814111\n"
     ]
    }
   ],
   "source": [
    "for col in customers: \n",
    "    print(col) \n",
    "    print(skew(customers[col])) "
   ]
  },
  {
   "cell_type": "markdown",
   "id": "e2c3d111-e459-412b-b699-323c16d81822",
   "metadata": {},
   "source": [
    "### Remove Skew"
   ]
  },
  {
   "cell_type": "code",
   "execution_count": 183,
   "id": "953560af-7e30-436b-8a26-d579c23570f5",
   "metadata": {},
   "outputs": [
    {
     "data": {
      "text/plain": [
       "0.3218634062203173"
      ]
     },
     "execution_count": 183,
     "metadata": {},
     "output_type": "execute_result"
    }
   ],
   "source": [
    "customers['Frequency'] = np.log(customers['Frequency'])\n",
    "pd.Series(customers['Frequency']).skew()"
   ]
  },
  {
   "cell_type": "code",
   "execution_count": 184,
   "id": "5d22486c-db4b-4ff5-a846-47651b1a4dd9",
   "metadata": {},
   "outputs": [
    {
     "data": {
      "text/plain": [
       "-0.2471246156866106"
      ]
     },
     "execution_count": 184,
     "metadata": {},
     "output_type": "execute_result"
    }
   ],
   "source": [
    "customers['Recency'] = np.sqrt(customers['Recency'])\n",
    "pd.Series(customers['Recency']).skew()"
   ]
  },
  {
   "cell_type": "code",
   "execution_count": 185,
   "id": "fc531e91-8e1a-40a2-8a84-b930326eabdd",
   "metadata": {},
   "outputs": [
    {
     "data": {
      "text/plain": [
       "0.33443750123507265"
      ]
     },
     "execution_count": 185,
     "metadata": {},
     "output_type": "execute_result"
    }
   ],
   "source": [
    "customers['MonetaryValue'] = np.log(customers['MonetaryValue'])\n",
    "pd.Series(customers['MonetaryValue']).skew()"
   ]
  },
  {
   "cell_type": "code",
   "execution_count": 186,
   "id": "a6a5ec8e-fe11-4a71-b842-eab971bd842c",
   "metadata": {},
   "outputs": [
    {
     "data": {
      "text/plain": [
       "<AxesSubplot:xlabel='MonetaryValue', ylabel='Count'>"
      ]
     },
     "execution_count": 186,
     "metadata": {},
     "output_type": "execute_result"
    },
    {
     "data": {
      "image/png": "[encoded data removed]",
      "text/plain": [
       "<Figure size 864x720 with 1 Axes>"
      ]
     },
     "metadata": {
      "needs_background": "light"
     },
     "output_type": "display_data"
    }
   ],
   "source": [
    "plt.figure(figsize=(12,10))\n",
    "plt.subplot(3, 1, 3); sns.histplot(customers['MonetaryValue'])"
   ]
  },
  {
   "cell_type": "code",
   "execution_count": 187,
   "id": "26d7e879-eb8d-4f74-821a-ed0e526dc2b9",
   "metadata": {},
   "outputs": [
    {
     "data": {
      "text/plain": [
       "<AxesSubplot:xlabel='Recency', ylabel='Count'>"
      ]
     },
     "execution_count": 187,
     "metadata": {},
     "output_type": "execute_result"
    },
    {
     "data": {
      "image/png": "[encoded data removed]",
      "text/plain": [
       "<Figure size 864x720 with 1 Axes>"
      ]
     },
     "metadata": {
      "needs_background": "light"
     },
     "output_type": "display_data"
    }
   ],
   "source": [
    "plt.figure(figsize=(12,10))\n",
    "plt.subplot(3, 1, 3); sns.histplot(customers['Recency'])"
   ]
  },
  {
   "cell_type": "code",
   "execution_count": 188,
   "id": "a2ed05b9-f2ef-4e09-b4a9-e107d4ec8dbb",
   "metadata": {},
   "outputs": [
    {
     "data": {
      "text/plain": [
       "<AxesSubplot:xlabel='Frequency', ylabel='Count'>"
      ]
     },
     "execution_count": 188,
     "metadata": {},
     "output_type": "execute_result"
    },
    {
     "data": {
      "image/png": "[encoded data removed]",
      "text/plain": [
       "<Figure size 864x720 with 1 Axes>"
      ]
     },
     "metadata": {
      "needs_background": "light"
     },
     "output_type": "display_data"
    }
   ],
   "source": [
    "plt.figure(figsize=(12,10))\n",
    "plt.subplot(3, 1, 3); sns.histplot(customers['Frequency'])"
   ]
  },
  {
   "cell_type": "markdown",
   "id": "9a9fa6b8-0a01-4bca-9302-6da1b2e1ddac",
   "metadata": {},
   "source": [
    "### Correlation Analysis"
   ]
  },
  {
   "cell_type": "code",
   "execution_count": 190,
   "id": "0d6b4a48-8c47-46d1-9e32-cccbca117aa6",
   "metadata": {},
   "outputs": [
    {
     "data": {
      "text/plain": [
       "<AxesSubplot:>"
      ]
     },
     "execution_count": 190,
     "metadata": {},
     "output_type": "execute_result"
    },
    {
     "data": {
      "image/png": "[encoded data removed]",
      "text/plain": [
       "<Figure size 648x432 with 2 Axes>"
      ]
     },
     "metadata": {
      "needs_background": "light"
     },
     "output_type": "display_data"
    }
   ],
   "source": [
    "fig, ax = plt.subplots(figsize=(9,6))   \n",
    "sns.heatmap(customers.corr(),cmap='Blues',annot=True,ax=ax)"
   ]
  },
  {
   "cell_type": "markdown",
   "id": "9299f44e-2acf-4fc0-ab0c-1f102c9465ba",
   "metadata": {},
   "source": [
    "### Q-Q plot- check on data distribution"
   ]
  },
  {
   "cell_type": "code",
   "execution_count": 191,
   "id": "a50b43b1-e417-4807-bdf5-f26d1a052363",
   "metadata": {},
   "outputs": [],
   "source": [
    "def q_qplot(col, df): \n",
    "    fig, ax=plt.subplots()\n",
    "    stats.probplot(df[col],dist='norm', plot=ax) \n",
    "    ax.set_title(f'Q-Q plot({col})') \n",
    "    plt.show() "
   ]
  },
  {
   "cell_type": "code",
   "execution_count": 192,
   "id": "3c733c0a-d8a1-4d2e-9380-1d44e10fb0d0",
   "metadata": {},
   "outputs": [
    {
     "data": {
      "image/png": "[encoded data removed]",
      "text/plain": [
       "<Figure size 432x288 with 1 Axes>"
      ]
     },
     "metadata": {
      "needs_background": "light"
     },
     "output_type": "display_data"
    },
    {
     "data": {
      "image/png": "[encoded data removed]",
      "text/plain": [
       "<Figure size 432x288 with 1 Axes>"
      ]
     },
     "metadata": {
      "needs_background": "light"
     },
     "output_type": "display_data"
    },
    {
     "data": {
      "image/png": "[encoded data removed]",
      "text/plain": [
       "<Figure size 432x288 with 1 Axes>"
      ]
     },
     "metadata": {
      "needs_background": "light"
     },
     "output_type": "display_data"
    }
   ],
   "source": [
    "q_qplot('Recency', customers) \n",
    "q_qplot('Frequency', customers) \n",
    "q_qplot('MonetaryValue', customers) "
   ]
  },
  {
   "cell_type": "markdown",
   "id": "677bb549-699c-4a46-b11e-149420c6682f",
   "metadata": {},
   "source": [
    "### Feature Scaling"
   ]
  },
  {
   "cell_type": "code",
   "execution_count": 195,
   "id": "1f10ecae-5714-4334-b763-e7a832efe83d",
   "metadata": {},
   "outputs": [],
   "source": [
    "scaler=StandardScaler() \n",
    "customers_standardized=scaler.fit_transform(customers) "
   ]
  },
  {
   "cell_type": "markdown",
   "id": "ed2de21d-d7ed-4848-b7cb-13c2b7cb343c",
   "metadata": {},
   "source": [
    "Fit KMeans and calculate sse, Silhouette score for each k "
   ]
  },
  {
   "cell_type": "code",
   "execution_count": 201,
   "id": "9671b989-808b-4816-9f75-d7603dd23df2",
   "metadata": {},
   "outputs": [
    {
     "name": "stderr",
     "output_type": "stream",
     "text": [
      "/Users/noe/opt/anaconda3/lib/python3.9/site-packages/seaborn/_decorators.py:36: FutureWarning: Pass the following variables as keyword args: x, y. From version 0.12, the only valid positional argument will be `data`, and passing other arguments without an explicit keyword will result in an error or misinterpretation.\n",
      "  warnings.warn(\n",
      "/Users/noe/opt/anaconda3/lib/python3.9/site-packages/seaborn/_decorators.py:36: FutureWarning: Pass the following variables as keyword args: x, y. From version 0.12, the only valid positional argument will be `data`, and passing other arguments without an explicit keyword will result in an error or misinterpretation.\n",
      "  warnings.warn(\n"
     ]
    },
    {
     "data": {
      "image/png": "[encoded data removed]",
      "text/plain": [
       "<Figure size 432x288 with 2 Axes>"
      ]
     },
     "metadata": {
      "needs_background": "light"
     },
     "output_type": "display_data"
    }
   ],
   "source": [
    "sse={} \n",
    "Silhouette_score={} \n",
    "for k in range(2, 11): \n",
    "    kmeans= KMeans(init='k-means++', n_clusters=k, random_state=0) \n",
    "    kmeans.fit(customers_standardized) \n",
    "    sse[k]=kmeans.inertia_ \n",
    "    \n",
    "    labels= kmeans.labels_ \n",
    "    Silhouette_score[k]=silhouette_score(customers_standardized, labels) \n",
    "    \n",
    "fig, (ax1, ax2)= plt.subplots(1,2) \n",
    "\n",
    "#Plot elbow method \n",
    "sns.pointplot(list(sse.keys()), list(sse.values()), ax=ax1) \n",
    "ax1.set_xlabel('No of Cluster') \n",
    "ax1.set_title('Elbow Method')\n",
    "\n",
    "#Plot silhouette coefficient \n",
    "sns.pointplot(list(Silhouette_score.keys()), list(Silhouette_score.values()), ax=ax2) \n",
    "ax2.set_title('Silhouette Score Coefficient') \n",
    "ax2.set_xlabel('No of Cluster') \n",
    "ax2.set_ylabel('Silhouette Score') \n",
    "fig.tight_layout() "
   ]
  },
  {
   "cell_type": "markdown",
   "id": "f9a9632c-0149-4572-92ff-2fe3d01438d3",
   "metadata": {},
   "source": [
    "### KMeans w/ 5 Clusters "
   ]
  },
  {
   "cell_type": "code",
   "execution_count": 202,
   "id": "9708fb80-a1b0-44b3-8ced-7307fd772fce",
   "metadata": {},
   "outputs": [
    {
     "data": {
      "text/plain": [
       "KMeans(n_clusters=5, random_state=0)"
      ]
     },
     "execution_count": 202,
     "metadata": {},
     "output_type": "execute_result"
    }
   ],
   "source": [
    "kmeans=KMeans(n_clusters=5, init='k-means++', random_state=0) \n",
    "kmeans.fit(customers_standardized) "
   ]
  },
  {
   "cell_type": "code",
   "execution_count": 203,
   "id": "9064a7e4-e199-481d-9a44-729e579954ee",
   "metadata": {},
   "outputs": [],
   "source": [
    "#Assign value of cluster in original DataFrame \n",
    "labels=kmeans.labels_ \n",
    "customers=customers.assign(Cluster=labels)"
   ]
  },
  {
   "cell_type": "code",
   "execution_count": 205,
   "id": "929a282f-9ad2-40cc-9f8d-5c771497052c",
   "metadata": {},
   "outputs": [
    {
     "data": {
      "text/html": [
       "<div>\n",
       "<style scoped>\n",
       "    .dataframe tbody tr th:only-of-type {\n",
       "        vertical-align: middle;\n",
       "    }\n",
       "\n",
       "    .dataframe tbody tr th {\n",
       "        vertical-align: top;\n",
       "    }\n",
       "\n",
       "    .dataframe thead th {\n",
       "        text-align: right;\n",
       "    }\n",
       "</style>\n",
       "<table border=\"1\" class=\"dataframe\">\n",
       "  <thead>\n",
       "    <tr style=\"text-align: right;\">\n",
       "      <th></th>\n",
       "      <th>Recency</th>\n",
       "      <th>Frequency</th>\n",
       "      <th>MonetaryValue</th>\n",
       "      <th>count</th>\n",
       "    </tr>\n",
       "    <tr>\n",
       "      <th>Cluster</th>\n",
       "      <th></th>\n",
       "      <th></th>\n",
       "      <th></th>\n",
       "      <th></th>\n",
       "    </tr>\n",
       "  </thead>\n",
       "  <tbody>\n",
       "    <tr>\n",
       "      <th>0</th>\n",
       "      <td>1.366025</td>\n",
       "      <td>5.374892</td>\n",
       "      <td>13.365466</td>\n",
       "      <td>2</td>\n",
       "    </tr>\n",
       "    <tr>\n",
       "      <th>1</th>\n",
       "      <td>14.197492</td>\n",
       "      <td>3.381196</td>\n",
       "      <td>11.349565</td>\n",
       "      <td>38</td>\n",
       "    </tr>\n",
       "    <tr>\n",
       "      <th>2</th>\n",
       "      <td>17.823962</td>\n",
       "      <td>2.779112</td>\n",
       "      <td>10.761988</td>\n",
       "      <td>21</td>\n",
       "    </tr>\n",
       "    <tr>\n",
       "      <th>3</th>\n",
       "      <td>12.833123</td>\n",
       "      <td>1.901198</td>\n",
       "      <td>9.917717</td>\n",
       "      <td>5</td>\n",
       "    </tr>\n",
       "    <tr>\n",
       "      <th>4</th>\n",
       "      <td>6.238517</td>\n",
       "      <td>3.437909</td>\n",
       "      <td>11.439717</td>\n",
       "      <td>26</td>\n",
       "    </tr>\n",
       "  </tbody>\n",
       "</table>\n",
       "</div>"
      ],
      "text/plain": [
       "           Recency  Frequency  MonetaryValue  count\n",
       "Cluster                                            \n",
       "0         1.366025   5.374892      13.365466      2\n",
       "1        14.197492   3.381196      11.349565     38\n",
       "2        17.823962   2.779112      10.761988     21\n",
       "3        12.833123   1.901198       9.917717      5\n",
       "4         6.238517   3.437909      11.439717     26"
      ]
     },
     "execution_count": 205,
     "metadata": {},
     "output_type": "execute_result"
    }
   ],
   "source": [
    "#Take average value of Recency, Frequency and MonetaryValue for each cluster \n",
    "customer_cluster=customers.groupby(by=['Cluster']).agg({'Recency':'mean', \n",
    "                                                        'Frequency':'mean',\n",
    "                                                        'MonetaryValue':'mean', \n",
    "                                                        'Cluster':'count'}).rename(columns={'Cluster':'count'}) \n",
    "customer_cluster                   "
   ]
  },
  {
   "cell_type": "raw",
   "id": "241eda32-7329-4394-b2ba-add7bda0af9d",
   "metadata": {},
   "source": [
    "Group 0 has not transacted for some time, and has an average frequency. They spend most when they do return. \n",
    "\n",
    "Group 1 transacted recently,however they have a below average frequency. Could be of benefit if these customers were targeted to increase how often they shop and subsequently increase monetary value. \n",
    "\n",
    "Group 2 transacted the most recently,but have a far below average frequency. Could also benefit these customers were targeted to increase frequency. \n",
    "\n",
    "Group 3 transacted recently. Have lowest frequency and it shows in the monetary value. Needs a high degree of marketing to increase Frequency to increase other areas. \n",
    "\n",
    "Group 4 has not transacted recently. Below average frequency. MonetaryValue is high and count of in this area is also high. Potential for growth with these customers. "
   ]
  },
  {
   "cell_type": "code",
   "execution_count": null,
   "id": "ada14314-86b4-4b84-93f6-63e21fe1cdc0",
   "metadata": {},
   "outputs": [],
   "source": []
  }
 ],
 "metadata": {
  "kernelspec": {
   "display_name": "Python 3 (ipykernel)",
   "language": "python",
   "name": "python3"
  },
  "language_info": {
   "codemirror_mode": {
    "name": "ipython",
    "version": 3
   },
   "file_extension": ".py",
   "mimetype": "text/x-python",
   "name": "python",
   "nbconvert_exporter": "python",
   "pygments_lexer": "ipython3",
   "version": "3.9.12"
  }
 },
 "nbformat": 4,
 "nbformat_minor": 5
}
